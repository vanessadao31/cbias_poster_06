{
 "cells": [
  {
   "cell_type": "code",
   "execution_count": 8,
   "id": "a01ce251-f7b9-4cb4-be17-1210f7c97c72",
   "metadata": {
    "tags": []
   },
   "outputs": [],
   "source": [
    "from pathlib import Path\n",
    "from aicsimageio import AICSImage\n",
    "import dask\n",
    "from dask.distributed import LocalCluster, Client\n",
    "import dask.array as da\n",
    "import time\n",
    "# import skimage.io as ski\n",
    "\n",
    "# import pyclesperanto_prototype as cle\n",
    "import napari\n",
    "import matplotlib.pyplot as plt\n",
    "%matplotlib inline"
   ]
  },
  {
   "cell_type": "code",
   "execution_count": 9,
   "id": "0cffd426-d66a-43ca-81a3-876ea79e0b1d",
   "metadata": {
    "tags": []
   },
   "outputs": [],
   "source": [
    "import numpy as np\n",
    "import pandas as pd"
   ]
  },
  {
   "cell_type": "code",
   "execution_count": 3,
   "id": "29bfa96f-bfae-4e08-9ca2-626c1f4bd721",
   "metadata": {
    "tags": []
   },
   "outputs": [],
   "source": [
    "def aics_file(file_path):\n",
    "    data = AICSImage(file_path)\n",
    "    image = data.get_image_data('ZYX', C=0, T=0)\n",
    "    return image\n",
    "\n",
    "# initialise by lazily loaded and accessed as needed\n",
    "def aics_file_5d(file_path):\n",
    "    data = AICSImage(file_path)\n",
    "    return data\n",
    "\n",
    "# load aicsimage into numpy array\n",
    "def get_image(aicsimage):\n",
    "    image = aicsimage.get_image_data('ZYX', C=0, T=0)\n",
    "    return image\n",
    "\n",
    "def read_file(file_path):\n",
    "    image = ski.imread(file_path)\n",
    "    return image"
   ]
  },
  {
   "cell_type": "code",
   "execution_count": 4,
   "id": "040dcd98-fd7a-4442-8f9a-0dc0b1580311",
   "metadata": {
    "tags": []
   },
   "outputs": [
    {
     "data": {
      "text/plain": [
       "['20191104_ABAT029_REG1-CTRL_DAPI_CD31-ENDOM-680_Th-647_hCD45-33-488_aSMA-CY3_aGFP-594.ome.btf']"
      ]
     },
     "execution_count": 4,
     "metadata": {},
     "output_type": "execute_result"
    }
   ],
   "source": [
    "folder_path = Path.cwd()\n",
    "file_pattern = '20191104_ABAT029_REG1-CTRL_DAPI_CD31-ENDOM-680_Th-647_hCD45-33-488_aSMA-CY3_aGFP-594.ome.btf'\n",
    "filenames = []\n",
    "\n",
    "for file in folder_path.glob(file_pattern):\n",
    "    filenames = np.append(filenames, file.name)\n",
    "filenames = sorted(filenames)\n",
    "\n",
    "filenames"
   ]
  },
  {
   "cell_type": "code",
   "execution_count": null,
   "id": "920cd420-170c-424a-80ab-458a80b55b0f",
   "metadata": {
    "tags": []
   },
   "outputs": [],
   "source": [
    "%%timeit\n",
    "aics_image = aics_file(filenames[0])"
   ]
  },
  {
   "cell_type": "code",
   "execution_count": 7,
   "id": "e88dd2f1-7b6c-483a-a84c-ed58ef1d5913",
   "metadata": {
    "tags": []
   },
   "outputs": [
    {
     "name": "stdout",
     "output_type": "stream",
     "text": [
      "6.6 ms ± 336 µs per loop (mean ± std. dev. of 10 runs, 10 loops each)\n"
     ]
    }
   ],
   "source": [
    "%%timeit -r 10 -n 10\n",
    "aics_image_5d = AICSImage(filenames[0])"
   ]
  },
  {
   "cell_type": "code",
   "execution_count": 22,
   "id": "94abe477-06e1-47a5-8399-294248c6959b",
   "metadata": {
    "tags": []
   },
   "outputs": [
    {
     "name": "stdout",
     "output_type": "stream",
     "text": [
      "34.2 s ± 104 ms per loop (mean ± std. dev. of 7 runs, 1 loop each)\n"
     ]
    }
   ],
   "source": [
    "%%timeit\n",
    "skimage_image = read_file(filenames[0])"
   ]
  },
  {
   "cell_type": "markdown",
   "id": "1e27db20",
   "metadata": {},
   "source": [
    "### Measuring interactivity"
   ]
  },
  {
   "cell_type": "code",
   "execution_count": 1,
   "id": "7fe2f9ff",
   "metadata": {},
   "outputs": [],
   "source": [
    "# dataframe management\n",
    "def process_time(df):\n",
    "    df = pd.read_csv(df, header=None, names=['time'])\n",
    "    df.index.rename('z-slice', inplace=True)\n",
    "    return df\n",
    "\n",
    "def plot_timelinegraph(df1, df2):\n",
    "    \n",
    "    avg1 = df1.mean()\n",
    "    avg2 = df2.mean()\n",
    "    \n",
    "    fig= plt.figure(figsize=(8,4))\n",
    "    ax = plt.subplot(111)\n",
    "\n",
    "    ax.plot(df1['time'], label='dask loading')\n",
    "    ax.axhline(avg1[0], alpha=0.5, linestyle='--')\n",
    "\n",
    "    ax.plot(df2['time'], label='RAM', color='r')\n",
    "    ax.axhline(avg2[0], color='r', alpha=0.5, linestyle='--')\n",
    "\n",
    "    plt.xlabel('Iterations')\n",
    "    plt.ylabel('Time /s')\n",
    "    ax.legend()\n",
    "    ax.tick_params(direction='in')"
   ]
  },
  {
   "cell_type": "code",
   "execution_count": 4,
   "id": "45dd9d54",
   "metadata": {},
   "outputs": [
    {
     "data": {
      "text/html": [
       "<div>\n",
       "<style scoped>\n",
       "    .dataframe tbody tr th:only-of-type {\n",
       "        vertical-align: middle;\n",
       "    }\n",
       "\n",
       "    .dataframe tbody tr th {\n",
       "        vertical-align: top;\n",
       "    }\n",
       "\n",
       "    .dataframe thead th {\n",
       "        text-align: right;\n",
       "    }\n",
       "</style>\n",
       "<table border=\"1\" class=\"dataframe\">\n",
       "  <thead>\n",
       "    <tr style=\"text-align: right;\">\n",
       "      <th></th>\n",
       "      <th>time</th>\n",
       "    </tr>\n",
       "    <tr>\n",
       "      <th>z-slice</th>\n",
       "      <th></th>\n",
       "    </tr>\n",
       "  </thead>\n",
       "  <tbody>\n",
       "    <tr>\n",
       "      <th>0</th>\n",
       "      <td>8.681946</td>\n",
       "    </tr>\n",
       "    <tr>\n",
       "      <th>1</th>\n",
       "      <td>2.968089</td>\n",
       "    </tr>\n",
       "    <tr>\n",
       "      <th>2</th>\n",
       "      <td>4.385744</td>\n",
       "    </tr>\n",
       "    <tr>\n",
       "      <th>3</th>\n",
       "      <td>8.580410</td>\n",
       "    </tr>\n",
       "    <tr>\n",
       "      <th>4</th>\n",
       "      <td>8.723716</td>\n",
       "    </tr>\n",
       "  </tbody>\n",
       "</table>\n",
       "</div>"
      ],
      "text/plain": [
       "             time\n",
       "z-slice          \n",
       "0        8.681946\n",
       "1        2.968089\n",
       "2        4.385744\n",
       "3        8.580410\n",
       "4        8.723716"
      ]
     },
     "execution_count": 4,
     "metadata": {},
     "output_type": "execute_result"
    }
   ],
   "source": [
    "dask_df = process_time('channels_dask_loading.csv')\n",
    "ram_df = process_time('channels_ram_loading.csv')\n",
    "dask_df.head()"
   ]
  },
  {
   "cell_type": "code",
   "execution_count": 10,
   "id": "a6d2d3b6",
   "metadata": {},
   "outputs": [
    {
     "data": {
      "image/png": "[encoded data removed]",
      "text/plain": [
       "<Figure size 576x288 with 1 Axes>"
      ]
     },
     "metadata": {
      "needs_background": "light"
     },
     "output_type": "display_data"
    }
   ],
   "source": [
    "plot_timelinegraph(dask_df, ram_df)"
   ]
  },
  {
   "cell_type": "code",
   "execution_count": null,
   "id": "75b4deee",
   "metadata": {},
   "outputs": [],
   "source": []
  }
 ],
 "metadata": {
  "kernelspec": {
   "display_name": "Python(pyclesperanto)",
   "language": "python",
   "name": "pyclesperanto_env"
  },
  "language_info": {
   "codemirror_mode": {
    "name": "ipython",
    "version": 3
   },
   "file_extension": ".py",
   "mimetype": "text/x-python",
   "name": "python",
   "nbconvert_exporter": "python",
   "pygments_lexer": "ipython3",
   "version": "3.9.18"
  }
 },
 "nbformat": 4,
 "nbformat_minor": 5
}
