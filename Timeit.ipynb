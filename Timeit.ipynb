{
 "cells": [
  {
   "cell_type": "code",
   "execution_count": 1,
   "id": "a01ce251-f7b9-4cb4-be17-1210f7c97c72",
   "metadata": {
    "tags": []
   },
   "outputs": [
    {
     "name": "stderr",
     "output_type": "stream",
     "text": [
      "C:\\Users\\daov1\\AppData\\Local\\anaconda3\\envs\\devbio-napari-env\\lib\\site-packages\\paramiko\\transport.py:219: CryptographyDeprecationWarning: Blowfish has been deprecated\n",
      "  \"class\": algorithms.Blowfish,\n"
     ]
    }
   ],
   "source": [
    "from pathlib import Path\n",
    "from aicsimageio import AICSImage\n",
    "import dask\n",
    "from dask.distributed import LocalCluster, Client\n",
    "import dask.array as da\n",
    "import time\n",
    "import skimage.io as ski\n",
    "\n",
    "import pyclesperanto_prototype as cle\n",
    "import napari\n",
    "import matplotlib.pyplot as plt\n",
    "%matplotlib inline"
   ]
  },
  {
   "cell_type": "code",
   "execution_count": 2,
   "id": "0cffd426-d66a-43ca-81a3-876ea79e0b1d",
   "metadata": {
    "tags": []
   },
   "outputs": [],
   "source": [
    "import numpy as np\n",
    "import pandas as pd"
   ]
  },
  {
   "cell_type": "code",
   "execution_count": 3,
   "id": "29bfa96f-bfae-4e08-9ca2-626c1f4bd721",
   "metadata": {
    "tags": []
   },
   "outputs": [],
   "source": [
    "def aics_file(file_path):\n",
    "    data = AICSImage(file_path)\n",
    "    image = data.get_image_data('ZYX', C=0, T=0)\n",
    "    return image\n",
    "\n",
    "# initialise by lazily loaded and accessed as needed\n",
    "def aics_file_5d(file_path):\n",
    "    data = AICSImage(file_path)\n",
    "    return data\n",
    "\n",
    "# load aicsimage into numpy array\n",
    "def get_image(aicsimage):\n",
    "    image = aicsimage.get_image_data('ZYX', C=0, T=0)\n",
    "    return image\n",
    "\n",
    "def read_file(file_path):\n",
    "    image = ski.imread(file_path)\n",
    "    return image"
   ]
  },
  {
   "cell_type": "code",
   "execution_count": 4,
   "id": "040dcd98-fd7a-4442-8f9a-0dc0b1580311",
   "metadata": {
    "tags": []
   },
   "outputs": [
    {
     "data": {
      "text/plain": [
       "['20191104_ABAT029_REG1-CTRL_DAPI_CD31-ENDOM-680_Th-647_hCD45-33-488_aSMA-CY3_aGFP-594.ome.btf']"
      ]
     },
     "execution_count": 4,
     "metadata": {},
     "output_type": "execute_result"
    }
   ],
   "source": [
    "folder_path = Path.cwd()\n",
    "file_pattern = 'Data/20191104_ABAT029_REG1-CTRL_DAPI_CD31-ENDOM-680_Th-647_hCD45-33-488_aSMA-CY3_aGFP-594.ome.btf'\n",
    "filenames = []\n",
    "\n",
    "for file in folder_path.glob(file_pattern):\n",
    "    filenames = np.append(filenames, file)\n",
    "filenames = sorted(filenames)\n",
    "\n",
    "filenames"
   ]
  },
  {
   "cell_type": "code",
   "execution_count": null,
   "id": "920cd420-170c-424a-80ab-458a80b55b0f",
   "metadata": {
    "tags": []
   },
   "outputs": [],
   "source": [
    "%%timeit\n",
    "aics_image = aics_file(filenames[0])"
   ]
  },
  {
   "cell_type": "code",
   "execution_count": 7,
   "id": "e88dd2f1-7b6c-483a-a84c-ed58ef1d5913",
   "metadata": {
    "tags": []
   },
   "outputs": [
    {
     "name": "stdout",
     "output_type": "stream",
     "text": [
      "6.6 ms ± 336 µs per loop (mean ± std. dev. of 10 runs, 10 loops each)\n"
     ]
    }
   ],
   "source": [
    "%%timeit -r 10 -n 10\n",
    "aics_image_5d = AICSImage(filenames[0])"
   ]
  },
  {
   "cell_type": "code",
   "execution_count": 22,
   "id": "94abe477-06e1-47a5-8399-294248c6959b",
   "metadata": {
    "tags": []
   },
   "outputs": [
    {
     "name": "stdout",
     "output_type": "stream",
     "text": [
      "34.2 s ± 104 ms per loop (mean ± std. dev. of 7 runs, 1 loop each)\n"
     ]
    }
   ],
   "source": [
    "%%timeit\n",
    "skimage_image = read_file(filenames[0])"
   ]
  },
  {
   "cell_type": "markdown",
   "id": "1e27db20",
   "metadata": {},
   "source": [
    "### Measuring interactivity - timeseries"
   ]
  },
  {
   "cell_type": "code",
   "execution_count": 6,
   "id": "7fe2f9ff",
   "metadata": {
    "tags": []
   },
   "outputs": [],
   "source": [
    "# dataframe management\n",
    "def process_time(df):\n",
    "    df = pd.read_csv(df, header=None, names=['time'])\n",
    "    df.index.rename('timepoint', inplace=True)\n",
    "    return df\n",
    "    \n",
    "def correct_mean_and_df(df):\n",
    "    df = df.iloc[1:]\n",
    "    average = df.mean()\n",
    "    avg = average[0]\n",
    "    return avg, df\n",
    "\n",
    "plt.rcParams['font.size'] = '14'"
   ]
  },
  {
   "cell_type": "code",
   "execution_count": 5,
   "id": "45dd9d54",
   "metadata": {
    "tags": []
   },
   "outputs": [
    {
     "data": {
      "text/html": [
       "<div>\n",
       "<style scoped>\n",
       "    .dataframe tbody tr th:only-of-type {\n",
       "        vertical-align: middle;\n",
       "    }\n",
       "\n",
       "    .dataframe tbody tr th {\n",
       "        vertical-align: top;\n",
       "    }\n",
       "\n",
       "    .dataframe thead th {\n",
       "        text-align: right;\n",
       "    }\n",
       "</style>\n",
       "<table border=\"1\" class=\"dataframe\">\n",
       "  <thead>\n",
       "    <tr style=\"text-align: right;\">\n",
       "      <th></th>\n",
       "      <th>time</th>\n",
       "    </tr>\n",
       "    <tr>\n",
       "      <th>timepoint</th>\n",
       "      <th></th>\n",
       "    </tr>\n",
       "  </thead>\n",
       "  <tbody>\n",
       "    <tr>\n",
       "      <th>0</th>\n",
       "      <td>0.000066</td>\n",
       "    </tr>\n",
       "    <tr>\n",
       "      <th>1</th>\n",
       "      <td>45.053280</td>\n",
       "    </tr>\n",
       "    <tr>\n",
       "      <th>2</th>\n",
       "      <td>41.426304</td>\n",
       "    </tr>\n",
       "    <tr>\n",
       "      <th>3</th>\n",
       "      <td>39.375548</td>\n",
       "    </tr>\n",
       "    <tr>\n",
       "      <th>4</th>\n",
       "      <td>40.950364</td>\n",
       "    </tr>\n",
       "  </tbody>\n",
       "</table>\n",
       "</div>"
      ],
      "text/plain": [
       "                time\n",
       "timepoint           \n",
       "0           0.000066\n",
       "1          45.053280\n",
       "2          41.426304\n",
       "3          39.375548\n",
       "4          40.950364"
      ]
     },
     "execution_count": 5,
     "metadata": {},
     "output_type": "execute_result"
    }
   ],
   "source": [
    "dask3d_df = process_time('csv/t_3d_loading.csv')\n",
    "dask2d_df = process_time('csv/t_2d_loading.csv')\n",
    "ram_df = process_time('csv/t_ram_loading.csv')\n",
    "dask3d_df.head()"
   ]
  },
  {
   "cell_type": "code",
   "execution_count": 7,
   "id": "a6d2d3b6",
   "metadata": {
    "tags": []
   },
   "outputs": [
    {
     "data": {
      "image/png": "[encoded data removed]",
      "text/plain": [
       "<Figure size 800x400 with 1 Axes>"
      ]
     },
     "metadata": {},
     "output_type": "display_data"
    }
   ],
   "source": [
    "avg1, dask3d_df_corrected = correct_mean_and_df(dask3d_df)\n",
    "avg2, dask2d_df_corrected = correct_mean_and_df(dask2d_df)\n",
    "avg3, ram_df_corrected = correct_mean_and_df(ram_df)\n",
    "\n",
    "dfs = [[dask3d_df, dask3d_df_corrected, avg1, '3d chunks', 'orange'],\n",
    "       [dask2d_df, dask2d_df_corrected, avg2, '2d chunks', 'b'],\n",
    "       [ram_df, ram_df_corrected, avg3, 'RAM', 'g']]\n",
    "\n",
    "    \n",
    "fig = plt.figure(figsize=(8,4))\n",
    "ax = plt.subplot(111)\n",
    "       \n",
    "for df, df_corrected, avg, label, color in dfs:\n",
    "    ax.plot(df_corrected['time'], label=label, color=color)\n",
    "    ax.axhline(avg, alpha=0.5, linestyle='--', color=color)\n",
    "    \n",
    "    ax.plot(0, df.iloc[0], color=color, linestyle='none', marker='x')\n",
    "    \n",
    "plt.title('Loading Timepoints') \n",
    "plt.xlabel('Timepoint')\n",
    "plt.ylabel('Time /s')\n",
    "ax.legend()\n",
    "ax.tick_params(direction='in')"
   ]
  },
  {
   "cell_type": "markdown",
   "id": "f01f4d82-ac18-455b-9be4-2979458b2d88",
   "metadata": {},
   "source": [
    "### Measuring interactivit"
   ]
  }
 ],
 "metadata": {
  "kernelspec": {
   "display_name": "Python 3 (ipykernel)",
   "language": "python",
   "name": "python3"
  },
  "language_info": {
   "codemirror_mode": {
    "name": "ipython",
    "version": 3
   },
   "file_extension": ".py",
   "mimetype": "text/x-python",
   "name": "python",
   "nbconvert_exporter": "python",
   "pygments_lexer": "ipython3",
   "version": "3.9.16"
  }
 },
 "nbformat": 4,
 "nbformat_minor": 5
}
